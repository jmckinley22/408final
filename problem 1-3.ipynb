{
 "cells": [
  {
   "cell_type": "markdown",
   "metadata": {},
   "source": [
    "Jupyter Notebook for Math 408 Final Project"
   ]
  },
  {
   "cell_type": "code",
   "execution_count": 2,
   "metadata": {},
   "outputs": [
    {
     "name": "stdout",
     "output_type": "stream",
     "text": [
      "Getting package: numpy\n",
      "Requirement already satisfied: numpy in /Users/jacksonmckinley/miniforge3/lib/python3.10/site-packages (2.0.1)\n",
      "Getting package: matplotlib\n",
      "Requirement already satisfied: matplotlib in /Users/jacksonmckinley/miniforge3/lib/python3.10/site-packages (3.9.2)\n",
      "Requirement already satisfied: contourpy>=1.0.1 in /Users/jacksonmckinley/miniforge3/lib/python3.10/site-packages (from matplotlib) (1.2.1)\n",
      "Requirement already satisfied: cycler>=0.10 in /Users/jacksonmckinley/miniforge3/lib/python3.10/site-packages (from matplotlib) (0.12.1)\n",
      "Requirement already satisfied: fonttools>=4.22.0 in /Users/jacksonmckinley/miniforge3/lib/python3.10/site-packages (from matplotlib) (4.53.1)\n",
      "Requirement already satisfied: kiwisolver>=1.3.1 in /Users/jacksonmckinley/miniforge3/lib/python3.10/site-packages (from matplotlib) (1.4.5)\n",
      "Requirement already satisfied: numpy>=1.23 in /Users/jacksonmckinley/miniforge3/lib/python3.10/site-packages (from matplotlib) (2.0.1)\n",
      "Requirement already satisfied: packaging>=20.0 in /Users/jacksonmckinley/miniforge3/lib/python3.10/site-packages (from matplotlib) (24.0)\n",
      "Requirement already satisfied: pillow>=8 in /Users/jacksonmckinley/miniforge3/lib/python3.10/site-packages (from matplotlib) (10.3.0)\n",
      "Requirement already satisfied: pyparsing>=2.3.1 in /Users/jacksonmckinley/miniforge3/lib/python3.10/site-packages (from matplotlib) (3.1.2)\n",
      "Requirement already satisfied: python-dateutil>=2.7 in /Users/jacksonmckinley/miniforge3/lib/python3.10/site-packages (from matplotlib) (2.9.0)\n",
      "Requirement already satisfied: six>=1.5 in /Users/jacksonmckinley/miniforge3/lib/python3.10/site-packages (from python-dateutil>=2.7->matplotlib) (1.16.0)\n",
      "Getting package: scipy\n",
      "Requirement already satisfied: scipy in /Users/jacksonmckinley/miniforge3/lib/python3.10/site-packages (1.14.1)\n",
      "Requirement already satisfied: numpy<2.3,>=1.23.5 in /Users/jacksonmckinley/miniforge3/lib/python3.10/site-packages (from scipy) (2.0.1)\n"
     ]
    }
   ],
   "source": [
    "import subprocess \n",
    "\n",
    "def get_packages(file_path):\n",
    "    with open(file_path, 'r') as file:\n",
    "        lines = file.readlines()\n",
    "\n",
    "    for line in lines:\n",
    "        package  = line.strip()\n",
    "        if package:\n",
    "            print(f\"Getting package: {package}\")\n",
    "            subprocess.run(['pip', 'install', package])\n",
    "\n",
    "get_packages('dependencies.txt')\n"
   ]
  },
  {
   "cell_type": "markdown",
   "metadata": {},
   "source": [
    "Question 1.)\n",
    "a) Use the random number generator 𝒙𝒏 ← [(𝒂𝒙𝒏−𝟏 + 𝒄) mod(𝒎)] with 𝒂 = 𝟕𝟓, 𝒄 = 𝟎 𝒂𝒏𝒅 𝒎 = 𝟐𝟑𝟏 − 𝟏 to\n",
    "generate 10000 uniformly distributed random numbers on [𝟎, 𝟏] and plot the histogram. Do the numbers generated\n",
    "seem to be random? If so, how do you explain this? Perform 1 or 2 simple statistical tests to check if they are\n",
    "𝑈[0,1].\n",
    "b) Do the following by hand: Take 𝒂 = 𝟔 and 𝒎 = 𝟏𝟏 and 𝒙𝟎 = 𝟑 and generate\n",
    "𝒙𝒏 ← [(𝒂𝒙𝒏−𝟏 + 𝒄) mod(𝒎)] what sequence do you get? What is the period? Try now 𝒂 = 𝟔 and 𝒎 = 𝟏𝟎\n",
    "and 𝒙𝟎 = 𝟑 what sequence do you get? What is the period?\n",
    "c) Generate 10000 uniformly distributed random numbers on [𝟎, 𝟏] using the built-in function of MATLAB or\n",
    "another built in function in the computer language you are working.\n",
    "d) Compare the histograms obtained in parts a) and c) and comment on the results.\n",
    "e) Call the random numbers generated in part a) 𝑢1, 𝑢2, ⋯. Plot the pairs (𝑢1, 𝑢2), (𝑢2, 𝑢3),(𝑢3, 𝑢4), etc. Do\n",
    "you see any particular pattern?\n",
    "f) As a conclusion of this problem, what advantages and disadvantages of this random number generator did\n",
    "you observe?"
   ]
  },
  {
   "cell_type": "code",
   "execution_count": 3,
   "metadata": {},
   "outputs": [
    {
     "data": {
      "image/png": "[encoded data removed]",
      "text/plain": [
       "<Figure size 640x480 with 1 Axes>"
      ]
     },
     "metadata": {},
     "output_type": "display_data"
    }
   ],
   "source": [
    "import numpy as np\n",
    "import matplotlib.pyplot as plt\n",
    "from scipy.stats import kstest\n",
    "\n",
    "# Define parameters for the random number generator\n",
    "a = 7**5\n",
    "c = 0\n",
    "m = 2**31 - 1\n",
    "n = 10000\n",
    "\n",
    "# Seed and initialize the generator\n",
    "seed = 408  # Arbitrary seed\n",
    "x = seed\n",
    "randNums = []\n",
    "\n",
    "# Generate 10000 random numbers\n",
    "for _ in range(n):\n",
    "    x = (a * x + c) % m\n",
    "    randNums.append(x / m)\n",
    "\n",
    "randNums = np.array(randNums)\n",
    "\n",
    "plt.hist(randNums, bins=30, density=True, edgecolor='k', alpha=0.7)\n",
    "plt.title(\"Histogram of Generated Random Numbers\")\n",
    "plt.xlabel(\"Value\")\n",
    "plt.ylabel(\"Density\")\n",
    "plt.show()\n"
   ]
  }
 ],
 "metadata": {
  "kernelspec": {
   "display_name": "Python 3",
   "language": "python",
   "name": "python3"
  },
  "language_info": {
   "codemirror_mode": {
    "name": "ipython",
    "version": 3
   },
   "file_extension": ".py",
   "mimetype": "text/x-python",
   "name": "python",
   "nbconvert_exporter": "python",
   "pygments_lexer": "ipython3",
   "version": "3.10.14"
  }
 },
 "nbformat": 4,
 "nbformat_minor": 2
}
